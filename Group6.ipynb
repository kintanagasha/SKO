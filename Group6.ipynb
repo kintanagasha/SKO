{
  "nbformat": 4,
  "nbformat_minor": 0,
  "metadata": {
    "colab": {
      "name": "Untitled4.ipynb",
      "provenance": [],
      "collapsed_sections": [],
      "authorship_tag": "ABX9TyNDEu4/KAdwakoa+qCTOqX8",
      "include_colab_link": true
    },
    "kernelspec": {
      "name": "python3",
      "display_name": "Python 3"
    }
  },
  "cells": [
    {
      "cell_type": "markdown",
      "metadata": {
        "id": "view-in-github",
        "colab_type": "text"
      },
      "source": [
        "<a href=\"https://colab.research.google.com/github/kintanagasha/SKO/blob/main/Group6.ipynb\" target=\"_parent\"><img src=\"https://colab.research.google.com/assets/colab-badge.svg\" alt=\"Open In Colab\"/></a>"
      ]
    },
    {
      "cell_type": "markdown",
      "metadata": {
        "id": "SjUVQN6dosvh"
      },
      "source": [
        "##OPTICAL SYSTEM ASSIGNMENT\r\n",
        "#####Group 6:\r\n",
        "#####Anissa Aulia Salsabillah\r\n",
        "#####Intan Inayatillah\r\n",
        "#####Kintan Putri Agasha"
      ]
    },
    {
      "cell_type": "code",
      "metadata": {
        "id": "IUL804vimR51"
      },
      "source": [
        "from math import log10, sqrt"
      ],
      "execution_count": 1,
      "outputs": []
    },
    {
      "cell_type": "code",
      "metadata": {
        "id": "fPgXh5SJmsfF"
      },
      "source": [
        "## Kabel FO\r\n",
        "L=np.arange(1,120,1) #km\r\n",
        "Hspl=2 #km\r\n",
        "disp_M=17e-12 #s/km.nm\r\n",
        "alpha_f=0.2 #dB/km"
      ],
      "execution_count": 2,
      "outputs": []
    },
    {
      "cell_type": "code",
      "metadata": {
        "id": "KFX73AnBnI7b"
      },
      "source": [
        "## Pengirim\r\n",
        "Ptx= 8 #mw\r\n",
        "Ptx_db= 10*log10(Ptx)\r\n",
        "spektral= 0.1 #nm\r\n",
        "t_tx= 35e-12 #s\r\n",
        "Mod_NRZ= 0.7 #NRZ\r\n",
        "Mod_RZ= 0.35 #RZ\r\n",
        "Br= 2.5e9 #2.5 Gbps\r\n",
        "Tb= 1/Br"
      ],
      "execution_count": 3,
      "outputs": []
    },
    {
      "cell_type": "code",
      "metadata": {
        "id": "7gwJspsan63X"
      },
      "source": [
        "## Pengirim\r\n",
        "Sensitivitas= -27 #dBm\r\n",
        "t_rx= 35e-12 #s"
      ],
      "execution_count": 4,
      "outputs": []
    },
    {
      "cell_type": "code",
      "metadata": {
        "id": "i1ohTby4oGui"
      },
      "source": [
        "## Redaman kanal\r\n",
        "N_c=2\r\n",
        "alpha_c= 0.1 #0.1dB/titik\r\n",
        "N_sp= (L/Hspl)-1\r\n",
        "alpha_sp= 0.1 #dB/titik\r\n",
        "Ms= 3 #dB"
      ],
      "execution_count": 5,
      "outputs": []
    },
    {
      "cell_type": "markdown",
      "metadata": {
        "id": "CRmoJxyMon7t"
      },
      "source": [
        "#LINK POWER BUDGET"
      ]
    },
    {
      "cell_type": "markdown",
      "metadata": {
        "id": "cln3JorbsV0r"
      },
      "source": [
        "$$\\alpha_T= 2\\alpha_c+N_{sp}\\alpha_{sp}+L\\alpha_f+M_s$$"
      ]
    },
    {
      "cell_type": "code",
      "metadata": {
        "colab": {
          "base_uri": "https://localhost:8080/"
        },
        "id": "cWfxn9vvqXkH",
        "outputId": "4f0bb56d-0435-4eb8-8e98-64ec493ba914"
      },
      "source": [
        "alpha_t=N_c*alpha_c+N_sp*alpha_sp+L*alpha_f+Ms"
      ],
      "execution_count": 6,
      "outputs": [
        {
          "output_type": "stream",
          "text": [
            "Redaman Kabel 32.85 dB\n"
          ],
          "name": "stdout"
        }
      ]
    },
    {
      "cell_type": "code",
      "metadata": {
        "id": "xAD1wIOiqztG"
      },
      "source": [
        "Prx=Ptx_db-alpha_t"
      ],
      "execution_count": 7,
      "outputs": []
    },
    {
      "cell_type": "code",
      "metadata": {
        "colab": {
          "base_uri": "https://localhost:8080/"
        },
        "id": "_B-oubrlrAKQ",
        "outputId": "a37922da-ef40-4c8f-c142-4121058f7bb6"
      },
      "source": [
        "Prx"
      ],
      "execution_count": 8,
      "outputs": [
        {
          "output_type": "execute_result",
          "data": {
            "text/plain": [
              "-23.819100130080564"
            ]
          },
          "metadata": {
            "tags": []
          },
          "execution_count": 8
        }
      ]
    },
    {
      "cell_type": "code",
      "metadata": {
        "colab": {
          "base_uri": "https://localhost:8080/"
        },
        "id": "e1McepLXrDKa",
        "outputId": "3648abb5-4bc4-4cf7-a44b-a57a6bc531b6"
      },
      "source": [
        "if Prx > Sensitivitas:\r\n",
        "  print (\"LPB, terpenuhi\")\r\n",
        "else:\r\n",
        "  print(\"Hitung Ulang!\")"
      ],
      "execution_count": 9,
      "outputs": [
        {
          "output_type": "stream",
          "text": [
            "LPB, terpenuhi\n"
          ],
          "name": "stdout"
        }
      ]
    },
    {
      "cell_type": "markdown",
      "metadata": {
        "id": "sWU7sFfsrZw9"
      },
      "source": [
        "#RISE TIME BUDGET\r\n",
        "dengan menggunakan hitungan"
      ]
    },
    {
      "cell_type": "markdown",
      "metadata": {
        "id": "8krcrjsWsKSn"
      },
      "source": [
        "$$t_(sys)=\\sqrt{t_{tx}^2+t_{mat}^2+t_{mod}^2+t_{wg}^2+t_{rx}^2}. $$"
      ]
    },
    {
      "cell_type": "code",
      "metadata": {
        "id": "U5p8IVVwtPnv"
      },
      "source": [
        "t_mat=disp_M*L*spektral\r\n",
        "t_wg=0 #diabaikan\r\n",
        "t_mod=0 #SM\r\n",
        "\r\n",
        "t_sys=sqrt(t_tx**2+\r\n",
        "           t_mat**2+\r\n",
        "           t_mod**2+\r\n",
        "           t_wg**2\r\n",
        "           +t_rx**2)"
      ],
      "execution_count": 10,
      "outputs": []
    },
    {
      "cell_type": "code",
      "metadata": {
        "colab": {
          "base_uri": "https://localhost:8080/"
        },
        "id": "FNpiL39xtvLM",
        "outputId": "aaf769e1-5ef7-4658-d688-e915e3fb3a93"
      },
      "source": [
        "t_sys"
      ],
      "execution_count": 11,
      "outputs": [
        {
          "output_type": "execute_result",
          "data": {
            "text/plain": [
              "2.0826735221824855e-10"
            ]
          },
          "metadata": {
            "tags": []
          },
          "execution_count": 11
        }
      ]
    },
    {
      "cell_type": "code",
      "metadata": {
        "colab": {
          "base_uri": "https://localhost:8080/"
        },
        "id": "NRwSHfp8t1qj",
        "outputId": "a6c5c16f-9859-4ffe-9c6a-af91841981bc"
      },
      "source": [
        "if (Tb*Mod_NRZ > t_sys) & (Tb*Mod_RZ > t_sys):\r\n",
        "  print (\"RTB, terpenuhi\")\r\n",
        "elif Tb*Mod_NRZ > t_sys:\r\n",
        "  print (\"RTB untuk NRZ, terpenuhi\")\r\n",
        "elif Tb*Mod_RZ > t_sys:\r\n",
        "  print (\"RTB untuk RZ, terpenuhi\")\r\n",
        "else:\r\n",
        "    print (\"Hitung Ulang!!!\")\r\n"
      ],
      "execution_count": 12,
      "outputs": [
        {
          "output_type": "stream",
          "text": [
            "RTB untuk NRZ, terpenuhi\n"
          ],
          "name": "stdout"
        }
      ]
    }
  ]
}