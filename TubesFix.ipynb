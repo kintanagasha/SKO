{
  "nbformat": 4,
  "nbformat_minor": 0,
  "metadata": {
    "colab": {
      "name": "Untitled6.ipynb",
      "provenance": [],
      "authorship_tag": "ABX9TyNX5+j6Gt18JdelLyYN9GEK",
      "include_colab_link": true
    },
    "kernelspec": {
      "name": "python3",
      "display_name": "Python 3"
    }
  },
  "cells": [
    {
      "cell_type": "markdown",
      "metadata": {
        "id": "view-in-github",
        "colab_type": "text"
      },
      "source": [
        "<a href=\"https://colab.research.google.com/github/kintanagasha/SKO/blob/main/TubesFix.ipynb\" target=\"_parent\"><img src=\"https://colab.research.google.com/assets/colab-badge.svg\" alt=\"Open In Colab\"/></a>"
      ]
    },
    {
      "cell_type": "markdown",
      "metadata": {
        "id": "LvlIK-ttsquN"
      },
      "source": [
        "# **GROUP 6**\r\n",
        "##### Anissa Aulia Salsabillah\r\n",
        "##### Intan Inayatillah\r\n",
        "##### Kintan Putri Agasha"
      ]
    },
    {
      "cell_type": "code",
      "metadata": {
        "id": "dqHAW-mBrkwU"
      },
      "source": [
        "from math import log10, sqrt"
      ],
      "execution_count": 1,
      "outputs": []
    },
    {
      "cell_type": "code",
      "metadata": {
        "id": "CvccsCy9rwfL"
      },
      "source": [
        "## Kabel FO G.654\r\n",
        "L=22 #km\r\n",
        "Hspl=2 #km (setiap)\r\n",
        "disp_M=20e-12 #s/km.nm (dispersi material/ kromatik)\r\n",
        "alpha_f=0.2 #dB/km (redaman)"
      ],
      "execution_count": 2,
      "outputs": []
    },
    {
      "cell_type": "code",
      "metadata": {
        "id": "H63ZKxwKryJc"
      },
      "source": [
        "## Pengirim\r\n",
        "Ptx= 50 #mw (daya yang dikirim LED)\r\n",
        "Ptx_db= 10*log10(Ptx)\r\n",
        "spektral= 0.1 #nm (lebar spektral)\r\n",
        "t_tx= 35e-12 #s (rise time)\r\n",
        "Mod_NRZ= 0.7 #NRZ (Modulasi)\r\n",
        "Mod_RZ= 0.35 #RZ (Modulasi)\r\n",
        "Br= 2.5e9 #2.5 Gbps (Bit Rate)\r\n",
        "Tb= 1/Br #(Time Bit)"
      ],
      "execution_count": 3,
      "outputs": []
    },
    {
      "cell_type": "code",
      "metadata": {
        "id": "4p3l2jhxr1LF"
      },
      "source": [
        "## Pengirim\r\n",
        "Sensitivitas= -27 #dBm \r\n",
        "t_rx= 35e-12 #s"
      ],
      "execution_count": 4,
      "outputs": []
    },
    {
      "cell_type": "code",
      "metadata": {
        "id": "HtbdKZ7zr22K"
      },
      "source": [
        "## Redaman kanal\r\n",
        "N_c=2 #(connector)\r\n",
        "alpha_c= 0.1 #0.1dB/titik\r\n",
        "N_sp= (L/Hspl)-1 #(Jumlah slice)\r\n",
        "alpha_sp= 0.1 #dB/titik (redaman/titik)\r\n",
        "Ms= 3 #dB (Margin System)"
      ],
      "execution_count": 5,
      "outputs": []
    },
    {
      "cell_type": "code",
      "metadata": {
        "id": "iJH92Tt5r5g5"
      },
      "source": [
        ""
      ],
      "execution_count": 5,
      "outputs": []
    },
    {
      "cell_type": "markdown",
      "metadata": {
        "id": "UCOXZ1NTr6GM"
      },
      "source": [
        "**LINK POWER BUDGET**"
      ]
    },
    {
      "cell_type": "markdown",
      "metadata": {
        "id": "x3SsKApOsSvu"
      },
      "source": [
        "$$\\alpha_T= 2\\alpha_c+N_{sp}\\alpha_{sp}+L\\alpha_f+M_s$$"
      ]
    },
    {
      "cell_type": "code",
      "metadata": {
        "colab": {
          "base_uri": "https://localhost:8080/"
        },
        "id": "ZVhruHmpr9KI",
        "outputId": "539c83f6-5915-4736-ce8b-b0e39195be52"
      },
      "source": [
        "alpha_t=N_c*alpha_c+N_sp*alpha_sp+L*alpha_f+Ms\r\n",
        "print(\"Redaman Kabel\", alpha_t, \"dB\")"
      ],
      "execution_count": 6,
      "outputs": [
        {
          "output_type": "stream",
          "text": [
            "Redaman Kabel 8.600000000000001 dB\n"
          ],
          "name": "stdout"
        }
      ]
    },
    {
      "cell_type": "code",
      "metadata": {
        "id": "sra9pRTBr_pi"
      },
      "source": [
        "Prx=Ptx_db-alpha_t"
      ],
      "execution_count": 7,
      "outputs": []
    },
    {
      "cell_type": "code",
      "metadata": {
        "colab": {
          "base_uri": "https://localhost:8080/"
        },
        "id": "W0CKI7XXsBLk",
        "outputId": "0b4896a7-4af9-4202-a1f8-f44c8def9070"
      },
      "source": [
        "Prx"
      ],
      "execution_count": 8,
      "outputs": [
        {
          "output_type": "execute_result",
          "data": {
            "text/plain": [
              "8.389700043360186"
            ]
          },
          "metadata": {
            "tags": []
          },
          "execution_count": 8
        }
      ]
    },
    {
      "cell_type": "code",
      "metadata": {
        "colab": {
          "base_uri": "https://localhost:8080/"
        },
        "id": "41hMgZJcsCvs",
        "outputId": "b5944db3-0cf1-4cac-cdaf-29ee50d41eb6"
      },
      "source": [
        "if Prx > Sensitivitas:\r\n",
        "  print (\"LPB, terpenuhi\")\r\n",
        "else:\r\n",
        "  print(\"Hitung Ulang!\")"
      ],
      "execution_count": 9,
      "outputs": [
        {
          "output_type": "stream",
          "text": [
            "LPB, terpenuhi\n"
          ],
          "name": "stdout"
        }
      ]
    },
    {
      "cell_type": "markdown",
      "metadata": {
        "id": "lKb-C90psFYf"
      },
      "source": [
        "**RISE TIME BUDGET**"
      ]
    },
    {
      "cell_type": "markdown",
      "metadata": {
        "id": "ElRAZ9JnsUjJ"
      },
      "source": [
        "$$t_(sys)=\\sqrt{t_{tx}^2+t_{mat}^2+t_{mod}^2+t_{wg}^2+t_{rx}^2}. $$"
      ]
    },
    {
      "cell_type": "code",
      "metadata": {
        "id": "KNv7ULAbsE0i"
      },
      "source": [
        "t_mat=disp_M*L*spektral\r\n",
        "t_wg=0 #diabaikan\r\n",
        "t_mod=0 #SM\r\n",
        "\r\n",
        "t_sys=sqrt(t_tx**2+\r\n",
        "           t_mat**2+\r\n",
        "           t_mod**2+\r\n",
        "           t_wg**2\r\n",
        "           +t_rx**2)"
      ],
      "execution_count": 10,
      "outputs": []
    },
    {
      "cell_type": "code",
      "metadata": {
        "colab": {
          "base_uri": "https://localhost:8080/"
        },
        "id": "3RV5oBYYsZpU",
        "outputId": "6533838d-c88a-40a4-9c7e-1a833f835ef5"
      },
      "source": [
        "t_sys"
      ],
      "execution_count": 11,
      "outputs": [
        {
          "output_type": "execute_result",
          "data": {
            "text/plain": [
              "6.62268827591938e-11"
            ]
          },
          "metadata": {
            "tags": []
          },
          "execution_count": 11
        }
      ]
    },
    {
      "cell_type": "code",
      "metadata": {
        "colab": {
          "base_uri": "https://localhost:8080/"
        },
        "id": "cPtgXoF9sbQq",
        "outputId": "cbf0e006-c6a1-47eb-8af1-39d2b88075e1"
      },
      "source": [
        "if (Tb*Mod_NRZ > t_sys) & (Tb*Mod_RZ > t_sys):\r\n",
        "  print (\"RTB, terpenuhi\")\r\n",
        "elif Tb*Mod_NRZ > t_sys:\r\n",
        "  print (\"RTB untuk NRZ, terpenuhi\")\r\n",
        "elif Tb*Mod_RZ > t_sys:\r\n",
        "  print (\"RTB untuk RZ, terpenuhi\")\r\n",
        "else:\r\n",
        "    print (\"Hitung Ulang!!!\")"
      ],
      "execution_count": 12,
      "outputs": [
        {
          "output_type": "stream",
          "text": [
            "RTB, terpenuhi\n"
          ],
          "name": "stdout"
        }
      ]
    }
  ]
}